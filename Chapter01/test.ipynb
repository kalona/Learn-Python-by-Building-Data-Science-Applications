{
 "cells": [
  {
   "cell_type": "code",
   "execution_count": 1,
   "metadata": {},
   "outputs": [
    {
     "name": "stdout",
     "output_type": "stream",
     "text": [
      "Hello world!\n"
     ]
    }
   ],
   "source": [
    "print('Hello world!')"
   ]
  },
  {
   "cell_type": "code",
   "execution_count": 3,
   "metadata": {},
   "outputs": [
    {
     "name": "stdout",
     "output_type": "stream",
     "text": [
      "Collecting package metadata (repodata.json): done\n",
      "Solving environment: failed\n",
      "\n",
      "ResolvePackageNotFound: \n",
      "  - rtree==0.8.3\n",
      "  - numba==0.44.1\n",
      "  - matplotlib==3.1.1\n",
      "  - luigi=2.8.7\n",
      "  - pydantic==0.30\n",
      "  - altair=3.2.0\n",
      "  - chalice==1.9.1\n",
      "  - uvicorn==0.5.1\n",
      "  - line_profiler==2.1.2\n",
      "  - pre-commit==1.18.3\n",
      "\n"
     ]
    }
   ],
   "source": [
    "!conda env update -f ../environment.yml"
   ]
  }
 ],
 "metadata": {
  "kernelspec": {
   "display_name": "Python 3",
   "language": "python",
   "name": "python3"
  },
  "language_info": {
   "codemirror_mode": {
    "name": "ipython",
    "version": 3
   },
   "file_extension": ".py",
   "mimetype": "text/x-python",
   "name": "python",
   "nbconvert_exporter": "python",
   "pygments_lexer": "ipython3",
   "version": "3.8.8"
  }
 },
 "nbformat": 4,
 "nbformat_minor": 4
}
