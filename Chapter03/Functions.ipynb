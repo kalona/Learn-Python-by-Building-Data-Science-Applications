{
 "cells": [
  {
   "cell_type": "markdown",
   "metadata": {},
   "source": [
    "# Built-in functions"
   ]
  },
  {
   "cell_type": "markdown",
   "metadata": {},
   "source": [
    "## Interface"
   ]
  },
  {
   "cell_type": "markdown",
   "metadata": {},
   "source": [
    "### Input"
   ]
  },
  {
   "cell_type": "code",
   "execution_count": 1,
   "metadata": {},
   "outputs": [
    {
     "name": "stdin",
     "output_type": "stream",
     "text": [
      "Your name? Guido\n"
     ]
    }
   ],
   "source": [
    "name = input('Your name?')"
   ]
  },
  {
   "cell_type": "code",
   "execution_count": 2,
   "metadata": {},
   "outputs": [
    {
     "data": {
      "text/plain": [
       "'Guido'"
      ]
     },
     "execution_count": 2,
     "metadata": {},
     "output_type": "execute_result"
    }
   ],
   "source": [
    "name"
   ]
  },
  {
   "cell_type": "markdown",
   "metadata": {},
   "source": [
    "### eval"
   ]
  },
  {
   "cell_type": "code",
   "execution_count": 4,
   "metadata": {},
   "outputs": [
    {
     "name": "stdin",
     "output_type": "stream",
     "text": [
      "2 + 2 = 4\n"
     ]
    }
   ],
   "source": [
    "problem = \"2 + 2\"\n",
    "check = eval(problem) == int(input(problem + ' ='))"
   ]
  },
  {
   "cell_type": "code",
   "execution_count": 5,
   "metadata": {},
   "outputs": [
    {
     "data": {
      "text/plain": [
       "True"
      ]
     },
     "execution_count": 5,
     "metadata": {},
     "output_type": "execute_result"
    }
   ],
   "source": [
    "check"
   ]
  },
  {
   "cell_type": "markdown",
   "metadata": {},
   "source": [
    "## Variable properties\n"
   ]
  },
  {
   "cell_type": "code",
   "execution_count": 6,
   "metadata": {},
   "outputs": [
    {
     "data": {
      "text/plain": [
       "\u001b[0;31mSignature:\u001b[0m   \u001b[0mhelp\u001b[0m\u001b[0;34m(\u001b[0m\u001b[0;34m*\u001b[0m\u001b[0margs\u001b[0m\u001b[0;34m,\u001b[0m \u001b[0;34m**\u001b[0m\u001b[0mkwds\u001b[0m\u001b[0;34m)\u001b[0m\u001b[0;34m\u001b[0m\u001b[0;34m\u001b[0m\u001b[0m\n",
       "\u001b[0;31mType:\u001b[0m        _Helper\n",
       "\u001b[0;31mString form:\u001b[0m Type help() for interactive help, or help(object) for help about object.\n",
       "\u001b[0;31mNamespace:\u001b[0m   Python builtin\n",
       "\u001b[0;31mFile:\u001b[0m        /anaconda3/envs/packt/lib/python3.7/_sitebuiltins.py\n",
       "\u001b[0;31mDocstring:\u001b[0m  \n",
       "Define the builtin 'help'.\n",
       "\n",
       "This is a wrapper around pydoc.help that provides a helpful message\n",
       "when 'help' is typed at the Python interactive prompt.\n",
       "\n",
       "Calling help() at the Python prompt starts an interactive help session.\n",
       "Calling help(thing) prints help for the python object 'thing'.\n"
      ]
     },
     "metadata": {},
     "output_type": "display_data"
    }
   ],
   "source": [
    "help?"
   ]
  },
  {
   "cell_type": "markdown",
   "metadata": {},
   "source": [
    "### type"
   ]
  },
  {
   "cell_type": "code",
   "execution_count": 7,
   "metadata": {},
   "outputs": [
    {
     "data": {
      "text/plain": [
       "str"
      ]
     },
     "execution_count": 7,
     "metadata": {},
     "output_type": "execute_result"
    }
   ],
   "source": [
    "type('Hello world')"
   ]
  },
  {
   "cell_type": "markdown",
   "metadata": {},
   "source": [
    "### isinstance"
   ]
  },
  {
   "cell_type": "code",
   "execution_count": 8,
   "metadata": {},
   "outputs": [
    {
     "data": {
      "text/plain": [
       "True"
      ]
     },
     "execution_count": 8,
     "metadata": {},
     "output_type": "execute_result"
    }
   ],
   "source": [
    "isinstance('Hello world', str)"
   ]
  },
  {
   "cell_type": "markdown",
   "metadata": {},
   "source": [
    "### dir"
   ]
  },
  {
   "cell_type": "code",
   "execution_count": 9,
   "metadata": {},
   "outputs": [
    {
     "data": {
      "text/plain": [
       "['__add__',\n",
       " '__class__',\n",
       " '__contains__',\n",
       " '__delattr__',\n",
       " '__dir__',\n",
       " '__doc__',\n",
       " '__eq__',\n",
       " '__format__',\n",
       " '__ge__',\n",
       " '__getattribute__',\n",
       " '__getitem__',\n",
       " '__getnewargs__',\n",
       " '__gt__',\n",
       " '__hash__',\n",
       " '__init__',\n",
       " '__init_subclass__',\n",
       " '__iter__',\n",
       " '__le__',\n",
       " '__len__',\n",
       " '__lt__',\n",
       " '__mod__',\n",
       " '__mul__',\n",
       " '__ne__',\n",
       " '__new__',\n",
       " '__reduce__',\n",
       " '__reduce_ex__',\n",
       " '__repr__',\n",
       " '__rmod__',\n",
       " '__rmul__',\n",
       " '__setattr__',\n",
       " '__sizeof__',\n",
       " '__str__',\n",
       " '__subclasshook__',\n",
       " 'capitalize',\n",
       " 'casefold',\n",
       " 'center',\n",
       " 'count',\n",
       " 'encode',\n",
       " 'endswith',\n",
       " 'expandtabs',\n",
       " 'find',\n",
       " 'format',\n",
       " 'format_map',\n",
       " 'index',\n",
       " 'isalnum',\n",
       " 'isalpha',\n",
       " 'isascii',\n",
       " 'isdecimal',\n",
       " 'isdigit',\n",
       " 'isidentifier',\n",
       " 'islower',\n",
       " 'isnumeric',\n",
       " 'isprintable',\n",
       " 'isspace',\n",
       " 'istitle',\n",
       " 'isupper',\n",
       " 'join',\n",
       " 'ljust',\n",
       " 'lower',\n",
       " 'lstrip',\n",
       " 'maketrans',\n",
       " 'partition',\n",
       " 'replace',\n",
       " 'rfind',\n",
       " 'rindex',\n",
       " 'rjust',\n",
       " 'rpartition',\n",
       " 'rsplit',\n",
       " 'rstrip',\n",
       " 'split',\n",
       " 'splitlines',\n",
       " 'startswith',\n",
       " 'strip',\n",
       " 'swapcase',\n",
       " 'title',\n",
       " 'translate',\n",
       " 'upper',\n",
       " 'zfill']"
      ]
     },
     "execution_count": 9,
     "metadata": {},
     "output_type": "execute_result"
    }
   ],
   "source": [
    "dir('Hello world')"
   ]
  },
  {
   "cell_type": "markdown",
   "metadata": {},
   "source": [
    "## Math"
   ]
  },
  {
   "cell_type": "markdown",
   "metadata": {},
   "source": [
    "### abs"
   ]
  },
  {
   "cell_type": "code",
   "execution_count": 10,
   "metadata": {},
   "outputs": [
    {
     "data": {
      "text/plain": [
       "1"
      ]
     },
     "execution_count": 10,
     "metadata": {},
     "output_type": "execute_result"
    }
   ],
   "source": [
    "abs(-1)"
   ]
  },
  {
   "cell_type": "markdown",
   "metadata": {},
   "source": [
    "### round"
   ]
  },
  {
   "cell_type": "code",
   "execution_count": 11,
   "metadata": {},
   "outputs": [
    {
     "data": {
      "text/plain": [
       "3.14"
      ]
     },
     "execution_count": 11,
     "metadata": {},
     "output_type": "execute_result"
    }
   ],
   "source": [
    "round(3.14159265359, 2)"
   ]
  },
  {
   "cell_type": "markdown",
   "metadata": {},
   "source": [
    "## Arrays"
   ]
  },
  {
   "cell_type": "markdown",
   "metadata": {},
   "source": [
    "### len"
   ]
  },
  {
   "cell_type": "code",
   "execution_count": 15,
   "metadata": {},
   "outputs": [
    {
     "data": {
      "text/plain": [
       "5"
      ]
     },
     "execution_count": 15,
     "metadata": {},
     "output_type": "execute_result"
    }
   ],
   "source": [
    "len('Hello')"
   ]
  },
  {
   "cell_type": "markdown",
   "metadata": {},
   "source": [
    "### sorted"
   ]
  },
  {
   "cell_type": "code",
   "execution_count": 18,
   "metadata": {},
   "outputs": [
    {
     "data": {
      "text/plain": [
       "[' ', 'H', 'e', 'e', 'h', 'i', 'r', 't']"
      ]
     },
     "execution_count": 18,
     "metadata": {},
     "output_type": "execute_result"
    }
   ],
   "source": [
    "sorted('Hi there!')"
   ]
  },
  {
   "cell_type": "markdown",
   "metadata": {},
   "source": [
    "### range"
   ]
  },
  {
   "cell_type": "code",
   "execution_count": 23,
   "metadata": {},
   "outputs": [
    {
     "data": {
      "text/plain": [
       "[0, 1, 2]"
      ]
     },
     "execution_count": 23,
     "metadata": {},
     "output_type": "execute_result"
    }
   ],
   "source": [
    "list(range(3))"
   ]
  },
  {
   "cell_type": "code",
   "execution_count": 25,
   "metadata": {},
   "outputs": [
    {
     "data": {
      "text/plain": [
       "[2, 3, 4]"
      ]
     },
     "execution_count": 25,
     "metadata": {},
     "output_type": "execute_result"
    }
   ],
   "source": [
    "list(range(2, 5))"
   ]
  },
  {
   "cell_type": "markdown",
   "metadata": {},
   "source": [
    "### All, Any"
   ]
  },
  {
   "cell_type": "code",
   "execution_count": 27,
   "metadata": {},
   "outputs": [
    {
     "data": {
      "text/plain": [
       "False"
      ]
     },
     "execution_count": 27,
     "metadata": {},
     "output_type": "execute_result"
    }
   ],
   "source": [
    "all([True, False, True]) # same as True & False & True"
   ]
  },
  {
   "cell_type": "code",
   "execution_count": 28,
   "metadata": {},
   "outputs": [
    {
     "data": {
      "text/plain": [
       "True"
      ]
     },
     "execution_count": 28,
     "metadata": {},
     "output_type": "execute_result"
    }
   ],
   "source": [
    "any([True, False, True]) # same as True | False | True"
   ]
  },
  {
   "cell_type": "markdown",
   "metadata": {},
   "source": [
    "### max, min, sum"
   ]
  },
  {
   "cell_type": "code",
   "execution_count": 29,
   "metadata": {},
   "outputs": [
    {
     "data": {
      "text/plain": [
       "3"
      ]
     },
     "execution_count": 29,
     "metadata": {},
     "output_type": "execute_result"
    }
   ],
   "source": [
    "max([1,2,3])"
   ]
  },
  {
   "cell_type": "code",
   "execution_count": 30,
   "metadata": {},
   "outputs": [
    {
     "data": {
      "text/plain": [
       "1"
      ]
     },
     "execution_count": 30,
     "metadata": {},
     "output_type": "execute_result"
    }
   ],
   "source": [
    "min([1,2,3])"
   ]
  },
  {
   "cell_type": "code",
   "execution_count": 31,
   "metadata": {},
   "outputs": [
    {
     "data": {
      "text/plain": [
       "6"
      ]
     },
     "execution_count": 31,
     "metadata": {},
     "output_type": "execute_result"
    }
   ],
   "source": [
    "sum([1,2,3])"
   ]
  },
  {
   "cell_type": "markdown",
   "metadata": {},
   "source": [
    "# Defining the function"
   ]
  },
  {
   "cell_type": "markdown",
   "metadata": {},
   "source": [
    "Пример функции:"
   ]
  },
  {
   "cell_type": "code",
   "execution_count": 32,
   "metadata": {},
   "outputs": [],
   "source": [
    "# def FUNCTIONNAME(ARGUEMENTS):\n",
    "#     '''DOCSTRING'''\n",
    "#     ACTUAL CODE"
   ]
  },
  {
   "cell_type": "code",
   "execution_count": 35,
   "metadata": {},
   "outputs": [],
   "source": [
    "def negative_power(v, p):\n",
    "    '''Return negative value V in power P'''\n",
    "    return -1 * (v**p)"
   ]
  },
  {
   "cell_type": "code",
   "execution_count": 36,
   "metadata": {},
   "outputs": [
    {
     "data": {
      "text/plain": [
       "-8"
      ]
     },
     "execution_count": 36,
     "metadata": {},
     "output_type": "execute_result"
    }
   ],
   "source": [
    "negative_power(2, 3)"
   ]
  },
  {
   "cell_type": "code",
   "execution_count": 37,
   "metadata": {},
   "outputs": [
    {
     "data": {
      "text/plain": [
       "-9"
      ]
     },
     "execution_count": 37,
     "metadata": {},
     "output_type": "execute_result"
    }
   ],
   "source": [
    "negative_power(3, 2)"
   ]
  },
  {
   "cell_type": "code",
   "execution_count": 38,
   "metadata": {},
   "outputs": [
    {
     "data": {
      "text/plain": [
       "-9"
      ]
     },
     "execution_count": 38,
     "metadata": {},
     "output_type": "execute_result"
    }
   ],
   "source": [
    "negative_power(p=2, v=3)"
   ]
  },
  {
   "cell_type": "markdown",
   "metadata": {},
   "source": [
    "## Default values"
   ]
  },
  {
   "cell_type": "code",
   "execution_count": 41,
   "metadata": {},
   "outputs": [],
   "source": [
    "def negative_power(v, p=2):\n",
    "    '''Return negative value v in power p'''\n",
    "    return -1 * (v**p)"
   ]
  },
  {
   "cell_type": "code",
   "execution_count": 42,
   "metadata": {},
   "outputs": [
    {
     "data": {
      "text/plain": [
       "-8"
      ]
     },
     "execution_count": 42,
     "metadata": {},
     "output_type": "execute_result"
    }
   ],
   "source": [
    "negative_power(2, 3)"
   ]
  },
  {
   "cell_type": "code",
   "execution_count": 43,
   "metadata": {},
   "outputs": [
    {
     "data": {
      "text/plain": [
       "-4"
      ]
     },
     "execution_count": 43,
     "metadata": {},
     "output_type": "execute_result"
    }
   ],
   "source": [
    "negative_power(2)"
   ]
  },
  {
   "cell_type": "markdown",
   "metadata": {},
   "source": [
    "## Var-positional and var-keyword"
   ]
  },
  {
   "cell_type": "code",
   "execution_count": 1,
   "metadata": {},
   "outputs": [
    {
     "name": "stdout",
     "output_type": "stream",
     "text": [
      "1 2 3 4 5\n"
     ]
    }
   ],
   "source": [
    "print(1,2,3,4,5)"
   ]
  },
  {
   "cell_type": "code",
   "execution_count": 18,
   "metadata": {},
   "outputs": [],
   "source": [
    "def f(a, b, *args, **kwargs):\n",
    "    return a + b, *args "
   ]
  },
  {
   "cell_type": "code",
   "execution_count": 20,
   "metadata": {},
   "outputs": [
    {
     "data": {
      "text/plain": [
       "(3, 'is the result')"
      ]
     },
     "execution_count": 20,
     "metadata": {},
     "output_type": "execute_result"
    }
   ],
   "source": [
    "f(1,2, \"is the result\", other_arguement=0)"
   ]
  },
  {
   "cell_type": "code",
   "execution_count": null,
   "metadata": {},
   "outputs": [],
   "source": [
    "!conda install -y matplotlib"
   ]
  },
  {
   "cell_type": "code",
   "execution_count": 3,
   "metadata": {},
   "outputs": [],
   "source": [
    "# sets up plotting in jupyter\n",
    "%matplotlib inline     \n",
    "\n",
    "import pylab as plt    # import plotting library\n",
    "\n",
    "def draw_scatter(x, y, color='k', **kwargs):\n",
    "    plt.scatter(x, y, color=color, **kwargs)"
   ]
  },
  {
   "cell_type": "code",
   "execution_count": 4,
   "metadata": {},
   "outputs": [
    {
     "data": {
      "image/png": "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\n",
      "text/plain": [
       "<Figure size 432x288 with 1 Axes>"
      ]
     },
     "metadata": {
      "needs_background": "light"
     },
     "output_type": "display_data"
    }
   ],
   "source": [
    "draw_scatter([1,2,3], [3,2,1], s=[10, 100, 300])"
   ]
  },
  {
   "cell_type": "markdown",
   "metadata": {},
   "source": [
    "## Docstrings"
   ]
  },
  {
   "cell_type": "code",
   "execution_count": 21,
   "metadata": {},
   "outputs": [],
   "source": [
    "def myfunction(a, b):\n",
    "     '''this is my favorite function!\n",
    "\n",
    "     it uses arguments:\n",
    "     a: argument a\n",
    "     b: argument b\n",
    "     '''\n",
    "     return a + b"
   ]
  },
  {
   "cell_type": "code",
   "execution_count": 23,
   "metadata": {},
   "outputs": [
    {
     "data": {
      "text/plain": [
       "\u001b[0;31mSignature:\u001b[0m \u001b[0mmyfunction\u001b[0m\u001b[0;34m(\u001b[0m\u001b[0ma\u001b[0m\u001b[0;34m,\u001b[0m \u001b[0mb\u001b[0m\u001b[0;34m)\u001b[0m\u001b[0;34m\u001b[0m\u001b[0;34m\u001b[0m\u001b[0m\n",
       "\u001b[0;31mDocstring:\u001b[0m\n",
       "this is my favorite function!\n",
       "\n",
       "it uses arguments:\n",
       "a: argument a\n",
       "b: argument b\n",
       "\u001b[0;31mFile:\u001b[0m      /notebooks/Learn-Python-by-Building-Data-Science-Applications/Chapter03/<ipython-input-21-e083a25cac67>\n",
       "\u001b[0;31mType:\u001b[0m      function\n"
      ]
     },
     "metadata": {},
     "output_type": "display_data"
    }
   ],
   "source": [
    "myfunction?"
   ]
  },
  {
   "cell_type": "code",
   "execution_count": 24,
   "metadata": {},
   "outputs": [
    {
     "data": {
      "text/plain": [
       "'\\nThis is an example of Google style.\\n\\nArgs: parameter1: This is our first parameter.\\n      parameter2: This is our second parameter.\\n\\nReturns:\\n    This is a description of what is returned.\\n\\nRaises:\\n    KeyError: Raises an exception.\\n'"
      ]
     },
     "execution_count": 24,
     "metadata": {},
     "output_type": "execute_result"
    }
   ],
   "source": [
    "# Example docstring in Google style\n",
    "\n",
    "\"\"\"\n",
    "This is an example of Google style.\n",
    "\n",
    "Args: parameter1: This is our first parameter.\n",
    "      parameter2: This is our second parameter.\n",
    "\n",
    "Returns:\n",
    "    This is a description of what is returned.\n",
    "\n",
    "Raises:\n",
    "    KeyError: Raises an exception.\n",
    "\"\"\""
   ]
  },
  {
   "cell_type": "markdown",
   "metadata": {},
   "source": [
    "## Type Annotations"
   ]
  },
  {
   "cell_type": "code",
   "execution_count": 25,
   "metadata": {},
   "outputs": [],
   "source": [
    "def negative_power(v:int, p:int)-> int: \n",
    "    '''Return negative value v in power p'''\n",
    "    return -1 * (v**p)"
   ]
  },
  {
   "cell_type": "code",
   "execution_count": 28,
   "metadata": {},
   "outputs": [
    {
     "data": {
      "text/plain": [
       "-9"
      ]
     },
     "execution_count": 28,
     "metadata": {},
     "output_type": "execute_result"
    }
   ],
   "source": [
    "negative_power(3, 2)"
   ]
  },
  {
   "cell_type": "markdown",
   "metadata": {},
   "source": [
    "# Refactoring the temperature conversion"
   ]
  },
  {
   "cell_type": "code",
   "execution_count": 33,
   "metadata": {},
   "outputs": [],
   "source": [
    "\n",
    "def fahrenheit_to_celsius(temp):\n",
    "    CONST, RATIO = 32, 5/9\n",
    "\n",
    "    return round((temp - CONST) * RATIO, 2)\n",
    "\n",
    "\n",
    "def celsius_to_fahrenheit(temp):\n",
    "    CONST, RATIO = 32, 5/9\n",
    "\n",
    "    return round((temp/RATIO) + CONST, 2)"
   ]
  },
  {
   "cell_type": "code",
   "execution_count": 34,
   "metadata": {},
   "outputs": [
    {
     "data": {
      "text/plain": [
       "37.78"
      ]
     },
     "execution_count": 34,
     "metadata": {},
     "output_type": "execute_result"
    }
   ],
   "source": [
    "fahrenheit_to_celsius(100)"
   ]
  },
  {
   "cell_type": "code",
   "execution_count": 35,
   "metadata": {},
   "outputs": [
    {
     "data": {
      "text/plain": [
       "100.0"
      ]
     },
     "execution_count": 35,
     "metadata": {},
     "output_type": "execute_result"
    }
   ],
   "source": [
    "celsius_to_fahrenheit(37.77777777777778)"
   ]
  },
  {
   "cell_type": "code",
   "execution_count": 36,
   "metadata": {},
   "outputs": [
    {
     "data": {
      "text/plain": [
       "21.11"
      ]
     },
     "execution_count": 36,
     "metadata": {},
     "output_type": "execute_result"
    }
   ],
   "source": [
    "fahrenheit_to_celsius(70)"
   ]
  },
  {
   "cell_type": "markdown",
   "metadata": {},
   "source": [
    "# Anonimlus (lambda) functions"
   ]
  },
  {
   "cell_type": "raw",
   "metadata": {},
   "source": [
    "lambda <arguments>: <code> "
   ]
  },
  {
   "cell_type": "code",
   "execution_count": 37,
   "metadata": {},
   "outputs": [],
   "source": [
    "models = [\n",
    "    'Bimbus-3000',\n",
    "    'Nimbus-1000',\n",
    "    'Timbus-2000'\n",
    "]\n"
   ]
  },
  {
   "cell_type": "code",
   "execution_count": 38,
   "metadata": {},
   "outputs": [
    {
     "data": {
      "text/plain": [
       "['Nimbus-1000', 'Timbus-2000', 'Bimbus-3000']"
      ]
     },
     "execution_count": 38,
     "metadata": {},
     "output_type": "execute_result"
    }
   ],
   "source": [
    "sorted(models, key=lambda x: x[-4:])"
   ]
  },
  {
   "cell_type": "code",
   "execution_count": 43,
   "metadata": {},
   "outputs": [
    {
     "data": {
      "text/plain": [
       "['Nimbus-1000', 'Timbus-2000', 'Bimbus-3000']"
      ]
     },
     "execution_count": 43,
     "metadata": {},
     "output_type": "execute_result"
    }
   ],
   "source": [
    "sorted(models, key=lambda x: x[7:])"
   ]
  },
  {
   "cell_type": "markdown",
   "metadata": {},
   "source": [
    "# Recursion"
   ]
  },
  {
   "cell_type": "code",
   "execution_count": 48,
   "metadata": {},
   "outputs": [],
   "source": [
    "def factorial(n):\n",
    "    if n == 1:  # If statement. We’ll discuss if statements in chapter 5\n",
    "        return n\n",
    "    else:\n",
    "        return n * factorial(n-1)"
   ]
  },
  {
   "cell_type": "code",
   "execution_count": 49,
   "metadata": {},
   "outputs": [
    {
     "data": {
      "text/plain": [
       "24"
      ]
     },
     "execution_count": 49,
     "metadata": {},
     "output_type": "execute_result"
    }
   ],
   "source": [
    "factorial(4)  # 1 * 2 * 3 * 4"
   ]
  },
  {
   "cell_type": "code",
   "execution_count": 54,
   "metadata": {},
   "outputs": [
    {
     "data": {
      "text/plain": [
       "120"
      ]
     },
     "execution_count": 54,
     "metadata": {},
     "output_type": "execute_result"
    }
   ],
   "source": [
    "factorial(5)"
   ]
  }
 ],
 "metadata": {
  "kernelspec": {
   "display_name": "Python 3",
   "language": "python",
   "name": "python3"
  },
  "language_info": {
   "codemirror_mode": {
    "name": "ipython",
    "version": 3
   },
   "file_extension": ".py",
   "mimetype": "text/x-python",
   "name": "python",
   "nbconvert_exporter": "python",
   "pygments_lexer": "ipython3",
<<<<<<< HEAD
   "version": "3.8.8"
=======
   "version": "3.7.10"
>>>>>>> 205fece849e88a858f15af21e0e3bc6922d5d3eb
  },
  "toc-autonumbering": true,
  "toc-showcode": false
 },
 "nbformat": 4,
 "nbformat_minor": 4
}
